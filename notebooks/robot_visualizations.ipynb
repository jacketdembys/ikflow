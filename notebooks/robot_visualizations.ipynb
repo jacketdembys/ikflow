{
 "cells": [
  {
   "cell_type": "markdown",
   "id": "d619eab0",
   "metadata": {},
   "source": [
    "# Overview\n",
    "This notebook illustrates the impact of the latent noise distribution on the resulting error statistics of generated samples"
   ]
  },
  {
   "cell_type": "code",
   "execution_count": 1,
   "id": "f124121e",
   "metadata": {},
   "outputs": [],
   "source": [
    "%load_ext autoreload\n",
    "%autoreload 2\n",
    "%load_ext wurlitzer\n",
    "#^^^ the wurlitzer extension is used to capture C/C++ output to be displayed in the notebook\n",
    "#^^^ this is very useful for debugging, but it doesn't work on windows\n",
    "import os\n",
    "os.chdir(\"../\")"
   ]
  },
  {
   "cell_type": "code",
   "execution_count": 30,
   "id": "c10b367e",
   "metadata": {},
   "outputs": [],
   "source": [
    "import numpy as np\n",
    "import torch\n",
    "from klampt.model import coordinates, trajectory\n",
    "from klampt import *\n",
    "from klampt.math import so3, se3\n",
    "from klampt import vis\n",
    "\n",
    "from ikflow.model_loading import get_ik_solver"
   ]
  },
  {
   "cell_type": "code",
   "execution_count": 3,
   "id": "18599224",
   "metadata": {},
   "outputs": [],
   "source": [
    "# PANDA\n",
    "model_name=\"panda__full__lp191_5.25m\"\n",
    "ik_solver, _ = get_ik_solver(model_name)\n",
    "urdf_filepath = ik_solver.robot.urdf_filepath\n",
    "R = so3.from_rpy([0, np.pi/2, 0])\n",
    "target_T_iktarget = (R, [-0.1, 0, 0])"
   ]
  },
  {
   "cell_type": "markdown",
   "id": "c67d761a",
   "metadata": {},
   "source": [
    "# Visualizing\n",
    "\n",
    "Per ieee: \"One column width: 3.5 inches, 88.9 millimeters, or 21 picas \"\n",
    "\n",
    "Note: Don't change the color here. The standalone gui has a tool to change the appearance properties of objects in the world\n",
    "\n",
    "When positioning the camera, try to fill the frame almost entirely with the robot."
   ]
  },
  {
   "cell_type": "code",
   "execution_count": 4,
   "id": "e1d923f0",
   "metadata": {},
   "outputs": [],
   "source": [
    "SHOW_MUG = True\n",
    "SOL_MODE = \"IKFLOW\"\n",
    "N_SOLUTIONS = 10"
   ]
  },
  {
   "cell_type": "code",
   "execution_count": 6,
   "id": "a8d966ef",
   "metadata": {},
   "outputs": [],
   "source": [
    "world = ik_solver.robot._klampt_world_model\n",
    "if SHOW_MUG:\n",
    "    assert world.loadRigidObject(\"ikflow/visualization_resources/klampt_resources/objects/mug_klampt.obj\")\n",
    "    mug = world.rigidObject(0)\n",
    "    #vis.setColor(vis.getItemName(mug), 0.5, 0.5, 1.0, a=1.0)\n",
    "robot = world.robot(0)"
   ]
  },
  {
   "cell_type": "code",
   "execution_count": 7,
   "id": "41b13968",
   "metadata": {},
   "outputs": [
    {
     "name": "stdout",
     "output_type": "stream",
     "text": [
      "***  klampt.vis: using Qt5 as the visualization backend  ***\n",
      "QtBackend: initializing app as Klamp't visualization\n",
      "vis: creating GL window\n",
      "######### QGLWidget setProgram ###############\n",
      "#########################################\n",
      "klampt.vis: Making window 0\n",
      "#########################################\n",
      "######### QGLWidget Initialize GL ###############\n"
     ]
    }
   ],
   "source": [
    "# Open viz in pop up window.\n",
    "vis.kill()\n",
    "vis.init([\"PyQt\"])\n",
    "vis.add(\"world\", world)\n",
    "vis.add(\"coordinates\", coordinates.manager())\n",
    "background_color = (1, 1, 1, 0.7)\n",
    "vis.setBackgroundColor(background_color[0], background_color[1], background_color[2], background_color[3])\n",
    "size = 5\n",
    "for x0 in range(-size, size + 1):\n",
    "    for y0 in range(-size, size + 1):\n",
    "        vis.add(\n",
    "            f\"floor_{x0}_{y0}\",\n",
    "            trajectory.Trajectory([1, 0], [(-size, y0, 0), (size, y0, 0)]),\n",
    "            color=(0.75, 0.75, 0.75, 1.0),\n",
    "            width=2.0,\n",
    "            hide_label=True,\n",
    "            pointSize=0,\n",
    "        )\n",
    "        vis.add(\n",
    "            f\"floor_{x0}_{y0}2\",\n",
    "            trajectory.Trajectory([1, 0], [(x0, -size, 0), (x0, size, 0)]),\n",
    "            color=(0.75, 0.75, 0.75, 1.0),\n",
    "            width=2.0,\n",
    "            hide_label=True,\n",
    "            pointSize=0,\n",
    "        )\n",
    "vis.show()"
   ]
  },
  {
   "cell_type": "code",
   "execution_count": 34,
   "id": "518be1e9",
   "metadata": {},
   "outputs": [],
   "source": [
    "# Tf parameters\n",
    "R = so3.from_rpy([np.pi/2, 0, -0.3])\n",
    "target_T_mug = (R, [0.065, 0.005, -0.005])\n",
    "\n",
    "# Robot parameters\n",
    "alpha = 1\n",
    "# robot_color = (1, 1, 1, alpha)\n",
    "robot_color = (0.5, 0.5, 0.5, alpha)\n",
    "\n",
    "\n",
    "def get_color(i, n):\n",
    "    return robot_color\n",
    "\n",
    "def update_sols(_end_pose):\n",
    "    print(f\"_end_pose = {_end_pose.tolist()}\")\n",
    "\n",
    "    print(type(_end_pose))\n",
    "    _end_pose = torch.from_numpy(_end_pose).to(\"cuda:0\")\n",
    "    print(type(_end_pose))\n",
    "    if SOL_MODE == \"IKFLOW\":\n",
    "        sols = ik_solver.generate_ik_solutions(_end_pose, N_SOLUTIONS).cpu().numpy()\n",
    "    elif SOL_MODE == \"IK\":\n",
    "        sols = ik_solver.robot.inverse_kinematics(_end_pose, N_SOLUTIONS, debug=False)\n",
    "    else:\n",
    "        raise ValueError(\"Unknown mode\")\n",
    "\n",
    "    qs = ik_solver.robot._x_to_qs(sols)\n",
    "    for i in range(N_SOLUTIONS):\n",
    "        q = qs[i]\n",
    "        rcolor = get_color(i, N_SOLUTIONS)\n",
    "        if i == 0:\n",
    "            vis.setColor(vis.getItemName(robot), rcolor[0], rcolor[1], rcolor[2], a=rcolor[3])\n",
    "            robot.setConfig(q)\n",
    "            continue\n",
    "        vis.add(f\"robot_{i}\", q, color=rcolor)\n",
    "\n",
    "def update_scene():\n",
    "    target = vis.getItemConfig(\"target\")\n",
    "    world_T_target = (target[:-3], target[-3:])\n",
    "    print(\"world_T_target =\", world_T_target)\n",
    "    if SHOW_MUG:\n",
    "        world_T_mug = se3.mul(world_T_target, target_T_mug)\n",
    "        mug.setTransform(world_T_mug[0], world_T_mug[1])\n",
    "    world_T_iktarget = se3.mul(world_T_target, target_T_iktarget)\n",
    "    update_sols(np.array(world_T_iktarget[1] + so3.quaternion(world_T_iktarget[0])))\n",
    "    vis.update()\n",
    "\n",
    "def current_state():\n",
    "    target = vis.getItemConfig(\"target\")\n",
    "    world_T_target = (target[:-3], target[-3:])\n",
    "    print(\"world_T_target =\", world_T_target)\n",
    "    print(\"target_T_iktarget =\", target_T_iktarget)\n",
    "    vp = vis.getViewport()\n",
    "    print(\"vp = vis.getViewport()\")\n",
    "    print(\"vp.camera.rot =\", vp.camera.rot)\n",
    "    print(\"vp.camera.tgt =\", vp.camera.tgt)\n",
    "    print(\"vp.camera.dist =\", vp.camera.dist)\n",
    "    print(\"vp.clippingplanes = \", vp.clippingplanes)\n",
    "    print(\"vis.setViewport(vp)\")"
   ]
  },
  {
   "cell_type": "markdown",
   "id": "f7ffa496",
   "metadata": {},
   "source": [
    "### Set IK target"
   ]
  },
  {
   "cell_type": "code",
   "execution_count": 35,
   "id": "9aecdbae",
   "metadata": {},
   "outputs": [],
   "source": [
    "# Update the target to a particular pose\n",
    "# -- \n",
    "pose = [ 0.50, 0, 0.65,  1, 0, 0, 0]\n",
    "world_T_target = ([1.0, 0, 0, 0, 1.0, 0, 0, 0, 1.0], [0.35, 0, 0.65])\n",
    "vis.add(\"target\", world_T_target, length=.25, width=1)\n",
    "\n",
    "vis.hideLabel(\"target\")\n",
    "vis.update()"
   ]
  },
  {
   "cell_type": "markdown",
   "id": "a5be1fae",
   "metadata": {},
   "source": [
    "### Update scene"
   ]
  },
  {
   "cell_type": "code",
   "execution_count": 38,
   "id": "6aeba360",
   "metadata": {},
   "outputs": [
    {
     "name": "stdout",
     "output_type": "stream",
     "text": [
      "world_T_target = ([1.0, 0, 0, 0, 1.0, 0, 0, 0, 1.0], [0.35, 0, 0.65])\n",
      "_end_pose = [0.24999999999999997, 0.0, 0.65, 0.7071067811865476, 0.0, 0.7071067811865475, 0.0]\n",
      "<class 'numpy.ndarray'>\n",
      "<class 'torch.Tensor'>\n"
     ]
    },
    {
     "ename": "RuntimeError",
     "evalue": "Node 'fd9c60': [(7,)] -> GLOWCouplingBlock -> [(7,)] encountered an error.",
     "output_type": "error",
     "traceback": [
      "\u001b[0;31m---------------------------------------------------------------------------\u001b[0m",
      "\u001b[0;31mRuntimeError\u001b[0m                              Traceback (most recent call last)",
      "File \u001b[0;32m~/.cache/pypoetry/virtualenvs/ikflow-I0n2E3-f-py3.10/lib/python3.10/site-packages/FrEIA/framework/graph_inn.py:298\u001b[0m, in \u001b[0;36mGraphINN.forward\u001b[0;34m(self, x_or_z, c, rev, jac, intermediate_outputs, x)\u001b[0m\n\u001b[1;32m    297\u001b[0m \u001b[38;5;28;01mif\u001b[39;00m has_condition:\n\u001b[0;32m--> 298\u001b[0m     mod_out \u001b[38;5;241m=\u001b[39m \u001b[43mnode\u001b[49m\u001b[38;5;241;43m.\u001b[39;49m\u001b[43mmodule\u001b[49m\u001b[43m(\u001b[49m\u001b[43mmod_in\u001b[49m\u001b[43m,\u001b[49m\u001b[43m \u001b[49m\u001b[43mc\u001b[49m\u001b[38;5;241;43m=\u001b[39;49m\u001b[43mmod_c\u001b[49m\u001b[43m,\u001b[49m\u001b[43m \u001b[49m\u001b[43mrev\u001b[49m\u001b[38;5;241;43m=\u001b[39;49m\u001b[43mrev\u001b[49m\u001b[43m,\u001b[49m\u001b[43m \u001b[49m\u001b[43mjac\u001b[49m\u001b[38;5;241;43m=\u001b[39;49m\u001b[43mjac\u001b[49m\u001b[43m)\u001b[49m\n\u001b[1;32m    299\u001b[0m \u001b[38;5;28;01melse\u001b[39;00m:\n",
      "File \u001b[0;32m~/.cache/pypoetry/virtualenvs/ikflow-I0n2E3-f-py3.10/lib/python3.10/site-packages/torch/nn/modules/module.py:1736\u001b[0m, in \u001b[0;36mModule._wrapped_call_impl\u001b[0;34m(self, *args, **kwargs)\u001b[0m\n\u001b[1;32m   1735\u001b[0m \u001b[38;5;28;01melse\u001b[39;00m:\n\u001b[0;32m-> 1736\u001b[0m     \u001b[38;5;28;01mreturn\u001b[39;00m \u001b[38;5;28;43mself\u001b[39;49m\u001b[38;5;241;43m.\u001b[39;49m\u001b[43m_call_impl\u001b[49m\u001b[43m(\u001b[49m\u001b[38;5;241;43m*\u001b[39;49m\u001b[43margs\u001b[49m\u001b[43m,\u001b[49m\u001b[43m \u001b[49m\u001b[38;5;241;43m*\u001b[39;49m\u001b[38;5;241;43m*\u001b[39;49m\u001b[43mkwargs\u001b[49m\u001b[43m)\u001b[49m\n",
      "File \u001b[0;32m~/.cache/pypoetry/virtualenvs/ikflow-I0n2E3-f-py3.10/lib/python3.10/site-packages/torch/nn/modules/module.py:1747\u001b[0m, in \u001b[0;36mModule._call_impl\u001b[0;34m(self, *args, **kwargs)\u001b[0m\n\u001b[1;32m   1744\u001b[0m \u001b[38;5;28;01mif\u001b[39;00m \u001b[38;5;129;01mnot\u001b[39;00m (\u001b[38;5;28mself\u001b[39m\u001b[38;5;241m.\u001b[39m_backward_hooks \u001b[38;5;129;01mor\u001b[39;00m \u001b[38;5;28mself\u001b[39m\u001b[38;5;241m.\u001b[39m_backward_pre_hooks \u001b[38;5;129;01mor\u001b[39;00m \u001b[38;5;28mself\u001b[39m\u001b[38;5;241m.\u001b[39m_forward_hooks \u001b[38;5;129;01mor\u001b[39;00m \u001b[38;5;28mself\u001b[39m\u001b[38;5;241m.\u001b[39m_forward_pre_hooks\n\u001b[1;32m   1745\u001b[0m         \u001b[38;5;129;01mor\u001b[39;00m _global_backward_pre_hooks \u001b[38;5;129;01mor\u001b[39;00m _global_backward_hooks\n\u001b[1;32m   1746\u001b[0m         \u001b[38;5;129;01mor\u001b[39;00m _global_forward_hooks \u001b[38;5;129;01mor\u001b[39;00m _global_forward_pre_hooks):\n\u001b[0;32m-> 1747\u001b[0m     \u001b[38;5;28;01mreturn\u001b[39;00m \u001b[43mforward_call\u001b[49m\u001b[43m(\u001b[49m\u001b[38;5;241;43m*\u001b[39;49m\u001b[43margs\u001b[49m\u001b[43m,\u001b[49m\u001b[43m \u001b[49m\u001b[38;5;241;43m*\u001b[39;49m\u001b[38;5;241;43m*\u001b[39;49m\u001b[43mkwargs\u001b[49m\u001b[43m)\u001b[49m\n\u001b[1;32m   1749\u001b[0m result \u001b[38;5;241m=\u001b[39m \u001b[38;5;28;01mNone\u001b[39;00m\n",
      "File \u001b[0;32m~/.cache/pypoetry/virtualenvs/ikflow-I0n2E3-f-py3.10/lib/python3.10/site-packages/FrEIA/modules/coupling_layers.py:97\u001b[0m, in \u001b[0;36m_BaseCouplingBlock.forward\u001b[0;34m(self, x, c, rev, jac)\u001b[0m\n\u001b[1;32m     96\u001b[0m x1_c \u001b[38;5;241m=\u001b[39m torch\u001b[38;5;241m.\u001b[39mcat([x1, \u001b[38;5;241m*\u001b[39mc], \u001b[38;5;241m1\u001b[39m) \u001b[38;5;28;01mif\u001b[39;00m \u001b[38;5;28mself\u001b[39m\u001b[38;5;241m.\u001b[39mconditional \u001b[38;5;28;01melse\u001b[39;00m x1\n\u001b[0;32m---> 97\u001b[0m y2, j2 \u001b[38;5;241m=\u001b[39m \u001b[38;5;28;43mself\u001b[39;49m\u001b[38;5;241;43m.\u001b[39;49m\u001b[43m_coupling2\u001b[49m\u001b[43m(\u001b[49m\u001b[43mx2\u001b[49m\u001b[43m,\u001b[49m\u001b[43m \u001b[49m\u001b[43mx1_c\u001b[49m\u001b[43m,\u001b[49m\u001b[43m \u001b[49m\u001b[43mrev\u001b[49m\u001b[38;5;241;43m=\u001b[39;49m\u001b[38;5;28;43;01mTrue\u001b[39;49;00m\u001b[43m)\u001b[49m\n\u001b[1;32m     99\u001b[0m y2_c \u001b[38;5;241m=\u001b[39m torch\u001b[38;5;241m.\u001b[39mcat([y2, \u001b[38;5;241m*\u001b[39mc], \u001b[38;5;241m1\u001b[39m) \u001b[38;5;28;01mif\u001b[39;00m \u001b[38;5;28mself\u001b[39m\u001b[38;5;241m.\u001b[39mconditional \u001b[38;5;28;01melse\u001b[39;00m y2\n",
      "File \u001b[0;32m~/.cache/pypoetry/virtualenvs/ikflow-I0n2E3-f-py3.10/lib/python3.10/site-packages/FrEIA/modules/coupling_layers.py:314\u001b[0m, in \u001b[0;36mGLOWCouplingBlock._coupling2\u001b[0;34m(self, x2, u1, rev)\u001b[0m\n\u001b[1;32m    313\u001b[0m \u001b[38;5;28;01mdef\u001b[39;00m \u001b[38;5;21m_coupling2\u001b[39m(\u001b[38;5;28mself\u001b[39m, x2, u1, rev\u001b[38;5;241m=\u001b[39m\u001b[38;5;28;01mFalse\u001b[39;00m):\n\u001b[0;32m--> 314\u001b[0m     a1 \u001b[38;5;241m=\u001b[39m \u001b[38;5;28;43mself\u001b[39;49m\u001b[38;5;241;43m.\u001b[39;49m\u001b[43msubnet1\u001b[49m\u001b[43m(\u001b[49m\u001b[43mu1\u001b[49m\u001b[43m)\u001b[49m\n\u001b[1;32m    315\u001b[0m     s1, t1 \u001b[38;5;241m=\u001b[39m a1[:, :\u001b[38;5;28mself\u001b[39m\u001b[38;5;241m.\u001b[39msplit_len2], a1[:, \u001b[38;5;28mself\u001b[39m\u001b[38;5;241m.\u001b[39msplit_len2:]\n",
      "File \u001b[0;32m~/.cache/pypoetry/virtualenvs/ikflow-I0n2E3-f-py3.10/lib/python3.10/site-packages/torch/nn/modules/module.py:1736\u001b[0m, in \u001b[0;36mModule._wrapped_call_impl\u001b[0;34m(self, *args, **kwargs)\u001b[0m\n\u001b[1;32m   1735\u001b[0m \u001b[38;5;28;01melse\u001b[39;00m:\n\u001b[0;32m-> 1736\u001b[0m     \u001b[38;5;28;01mreturn\u001b[39;00m \u001b[38;5;28;43mself\u001b[39;49m\u001b[38;5;241;43m.\u001b[39;49m\u001b[43m_call_impl\u001b[49m\u001b[43m(\u001b[49m\u001b[38;5;241;43m*\u001b[39;49m\u001b[43margs\u001b[49m\u001b[43m,\u001b[49m\u001b[43m \u001b[49m\u001b[38;5;241;43m*\u001b[39;49m\u001b[38;5;241;43m*\u001b[39;49m\u001b[43mkwargs\u001b[49m\u001b[43m)\u001b[49m\n",
      "File \u001b[0;32m~/.cache/pypoetry/virtualenvs/ikflow-I0n2E3-f-py3.10/lib/python3.10/site-packages/torch/nn/modules/module.py:1747\u001b[0m, in \u001b[0;36mModule._call_impl\u001b[0;34m(self, *args, **kwargs)\u001b[0m\n\u001b[1;32m   1744\u001b[0m \u001b[38;5;28;01mif\u001b[39;00m \u001b[38;5;129;01mnot\u001b[39;00m (\u001b[38;5;28mself\u001b[39m\u001b[38;5;241m.\u001b[39m_backward_hooks \u001b[38;5;129;01mor\u001b[39;00m \u001b[38;5;28mself\u001b[39m\u001b[38;5;241m.\u001b[39m_backward_pre_hooks \u001b[38;5;129;01mor\u001b[39;00m \u001b[38;5;28mself\u001b[39m\u001b[38;5;241m.\u001b[39m_forward_hooks \u001b[38;5;129;01mor\u001b[39;00m \u001b[38;5;28mself\u001b[39m\u001b[38;5;241m.\u001b[39m_forward_pre_hooks\n\u001b[1;32m   1745\u001b[0m         \u001b[38;5;129;01mor\u001b[39;00m _global_backward_pre_hooks \u001b[38;5;129;01mor\u001b[39;00m _global_backward_hooks\n\u001b[1;32m   1746\u001b[0m         \u001b[38;5;129;01mor\u001b[39;00m _global_forward_hooks \u001b[38;5;129;01mor\u001b[39;00m _global_forward_pre_hooks):\n\u001b[0;32m-> 1747\u001b[0m     \u001b[38;5;28;01mreturn\u001b[39;00m \u001b[43mforward_call\u001b[49m\u001b[43m(\u001b[49m\u001b[38;5;241;43m*\u001b[39;49m\u001b[43margs\u001b[49m\u001b[43m,\u001b[49m\u001b[43m \u001b[49m\u001b[38;5;241;43m*\u001b[39;49m\u001b[38;5;241;43m*\u001b[39;49m\u001b[43mkwargs\u001b[49m\u001b[43m)\u001b[49m\n\u001b[1;32m   1749\u001b[0m result \u001b[38;5;241m=\u001b[39m \u001b[38;5;28;01mNone\u001b[39;00m\n",
      "File \u001b[0;32m~/.cache/pypoetry/virtualenvs/ikflow-I0n2E3-f-py3.10/lib/python3.10/site-packages/torch/nn/modules/container.py:250\u001b[0m, in \u001b[0;36mSequential.forward\u001b[0;34m(self, input)\u001b[0m\n\u001b[1;32m    249\u001b[0m \u001b[38;5;28;01mfor\u001b[39;00m module \u001b[38;5;129;01min\u001b[39;00m \u001b[38;5;28mself\u001b[39m:\n\u001b[0;32m--> 250\u001b[0m     \u001b[38;5;28minput\u001b[39m \u001b[38;5;241m=\u001b[39m \u001b[43mmodule\u001b[49m\u001b[43m(\u001b[49m\u001b[38;5;28;43minput\u001b[39;49m\u001b[43m)\u001b[49m\n\u001b[1;32m    251\u001b[0m \u001b[38;5;28;01mreturn\u001b[39;00m \u001b[38;5;28minput\u001b[39m\n",
      "File \u001b[0;32m~/.cache/pypoetry/virtualenvs/ikflow-I0n2E3-f-py3.10/lib/python3.10/site-packages/torch/nn/modules/module.py:1736\u001b[0m, in \u001b[0;36mModule._wrapped_call_impl\u001b[0;34m(self, *args, **kwargs)\u001b[0m\n\u001b[1;32m   1735\u001b[0m \u001b[38;5;28;01melse\u001b[39;00m:\n\u001b[0;32m-> 1736\u001b[0m     \u001b[38;5;28;01mreturn\u001b[39;00m \u001b[38;5;28;43mself\u001b[39;49m\u001b[38;5;241;43m.\u001b[39;49m\u001b[43m_call_impl\u001b[49m\u001b[43m(\u001b[49m\u001b[38;5;241;43m*\u001b[39;49m\u001b[43margs\u001b[49m\u001b[43m,\u001b[49m\u001b[43m \u001b[49m\u001b[38;5;241;43m*\u001b[39;49m\u001b[38;5;241;43m*\u001b[39;49m\u001b[43mkwargs\u001b[49m\u001b[43m)\u001b[49m\n",
      "File \u001b[0;32m~/.cache/pypoetry/virtualenvs/ikflow-I0n2E3-f-py3.10/lib/python3.10/site-packages/torch/nn/modules/module.py:1747\u001b[0m, in \u001b[0;36mModule._call_impl\u001b[0;34m(self, *args, **kwargs)\u001b[0m\n\u001b[1;32m   1744\u001b[0m \u001b[38;5;28;01mif\u001b[39;00m \u001b[38;5;129;01mnot\u001b[39;00m (\u001b[38;5;28mself\u001b[39m\u001b[38;5;241m.\u001b[39m_backward_hooks \u001b[38;5;129;01mor\u001b[39;00m \u001b[38;5;28mself\u001b[39m\u001b[38;5;241m.\u001b[39m_backward_pre_hooks \u001b[38;5;129;01mor\u001b[39;00m \u001b[38;5;28mself\u001b[39m\u001b[38;5;241m.\u001b[39m_forward_hooks \u001b[38;5;129;01mor\u001b[39;00m \u001b[38;5;28mself\u001b[39m\u001b[38;5;241m.\u001b[39m_forward_pre_hooks\n\u001b[1;32m   1745\u001b[0m         \u001b[38;5;129;01mor\u001b[39;00m _global_backward_pre_hooks \u001b[38;5;129;01mor\u001b[39;00m _global_backward_hooks\n\u001b[1;32m   1746\u001b[0m         \u001b[38;5;129;01mor\u001b[39;00m _global_forward_hooks \u001b[38;5;129;01mor\u001b[39;00m _global_forward_pre_hooks):\n\u001b[0;32m-> 1747\u001b[0m     \u001b[38;5;28;01mreturn\u001b[39;00m \u001b[43mforward_call\u001b[49m\u001b[43m(\u001b[49m\u001b[38;5;241;43m*\u001b[39;49m\u001b[43margs\u001b[49m\u001b[43m,\u001b[49m\u001b[43m \u001b[49m\u001b[38;5;241;43m*\u001b[39;49m\u001b[38;5;241;43m*\u001b[39;49m\u001b[43mkwargs\u001b[49m\u001b[43m)\u001b[49m\n\u001b[1;32m   1749\u001b[0m result \u001b[38;5;241m=\u001b[39m \u001b[38;5;28;01mNone\u001b[39;00m\n",
      "File \u001b[0;32m~/.cache/pypoetry/virtualenvs/ikflow-I0n2E3-f-py3.10/lib/python3.10/site-packages/torch/nn/modules/linear.py:125\u001b[0m, in \u001b[0;36mLinear.forward\u001b[0;34m(self, input)\u001b[0m\n\u001b[1;32m    124\u001b[0m \u001b[38;5;28;01mdef\u001b[39;00m \u001b[38;5;21mforward\u001b[39m(\u001b[38;5;28mself\u001b[39m, \u001b[38;5;28minput\u001b[39m: Tensor) \u001b[38;5;241m-\u001b[39m\u001b[38;5;241m>\u001b[39m Tensor:\n\u001b[0;32m--> 125\u001b[0m     \u001b[38;5;28;01mreturn\u001b[39;00m \u001b[43mF\u001b[49m\u001b[38;5;241;43m.\u001b[39;49m\u001b[43mlinear\u001b[49m\u001b[43m(\u001b[49m\u001b[38;5;28;43minput\u001b[39;49m\u001b[43m,\u001b[49m\u001b[43m \u001b[49m\u001b[38;5;28;43mself\u001b[39;49m\u001b[38;5;241;43m.\u001b[39;49m\u001b[43mweight\u001b[49m\u001b[43m,\u001b[49m\u001b[43m \u001b[49m\u001b[38;5;28;43mself\u001b[39;49m\u001b[38;5;241;43m.\u001b[39;49m\u001b[43mbias\u001b[49m\u001b[43m)\u001b[49m\n",
      "File \u001b[0;32m~/.cache/pypoetry/virtualenvs/ikflow-I0n2E3-f-py3.10/lib/python3.10/site-packages/torch/utils/_device.py:106\u001b[0m, in \u001b[0;36mDeviceContext.__torch_function__\u001b[0;34m(self, func, types, args, kwargs)\u001b[0m\n\u001b[1;32m    105\u001b[0m     kwargs[\u001b[38;5;124m'\u001b[39m\u001b[38;5;124mdevice\u001b[39m\u001b[38;5;124m'\u001b[39m] \u001b[38;5;241m=\u001b[39m \u001b[38;5;28mself\u001b[39m\u001b[38;5;241m.\u001b[39mdevice\n\u001b[0;32m--> 106\u001b[0m \u001b[38;5;28;01mreturn\u001b[39;00m \u001b[43mfunc\u001b[49m\u001b[43m(\u001b[49m\u001b[38;5;241;43m*\u001b[39;49m\u001b[43margs\u001b[49m\u001b[43m,\u001b[49m\u001b[43m \u001b[49m\u001b[38;5;241;43m*\u001b[39;49m\u001b[38;5;241;43m*\u001b[39;49m\u001b[43mkwargs\u001b[49m\u001b[43m)\u001b[49m\n",
      "\u001b[0;31mRuntimeError\u001b[0m: mat1 and mat2 must have the same dtype, but got Double and Float",
      "\nThe above exception was the direct cause of the following exception:\n",
      "\u001b[0;31mRuntimeError\u001b[0m                              Traceback (most recent call last)",
      "Cell \u001b[0;32mIn[38], line 3\u001b[0m\n\u001b[1;32m      1\u001b[0m \u001b[38;5;66;03m# SOL_MODE = \"IK\"\u001b[39;00m\n\u001b[1;32m      2\u001b[0m SOL_MODE \u001b[38;5;241m=\u001b[39m \u001b[38;5;124m\"\u001b[39m\u001b[38;5;124mIKFLOW\u001b[39m\u001b[38;5;124m\"\u001b[39m\n\u001b[0;32m----> 3\u001b[0m \u001b[43mupdate_scene\u001b[49m\u001b[43m(\u001b[49m\u001b[43m)\u001b[49m\n",
      "Cell \u001b[0;32mIn[34], line 45\u001b[0m, in \u001b[0;36mupdate_scene\u001b[0;34m()\u001b[0m\n\u001b[1;32m     43\u001b[0m     mug\u001b[38;5;241m.\u001b[39msetTransform(world_T_mug[\u001b[38;5;241m0\u001b[39m], world_T_mug[\u001b[38;5;241m1\u001b[39m])\n\u001b[1;32m     44\u001b[0m world_T_iktarget \u001b[38;5;241m=\u001b[39m se3\u001b[38;5;241m.\u001b[39mmul(world_T_target, target_T_iktarget)\n\u001b[0;32m---> 45\u001b[0m \u001b[43mupdate_sols\u001b[49m\u001b[43m(\u001b[49m\u001b[43mnp\u001b[49m\u001b[38;5;241;43m.\u001b[39;49m\u001b[43marray\u001b[49m\u001b[43m(\u001b[49m\u001b[43mworld_T_iktarget\u001b[49m\u001b[43m[\u001b[49m\u001b[38;5;241;43m1\u001b[39;49m\u001b[43m]\u001b[49m\u001b[43m \u001b[49m\u001b[38;5;241;43m+\u001b[39;49m\u001b[43m \u001b[49m\u001b[43mso3\u001b[49m\u001b[38;5;241;43m.\u001b[39;49m\u001b[43mquaternion\u001b[49m\u001b[43m(\u001b[49m\u001b[43mworld_T_iktarget\u001b[49m\u001b[43m[\u001b[49m\u001b[38;5;241;43m0\u001b[39;49m\u001b[43m]\u001b[49m\u001b[43m)\u001b[49m\u001b[43m)\u001b[49m\u001b[43m)\u001b[49m\n\u001b[1;32m     46\u001b[0m vis\u001b[38;5;241m.\u001b[39mupdate()\n",
      "Cell \u001b[0;32mIn[34], line 21\u001b[0m, in \u001b[0;36mupdate_sols\u001b[0;34m(_end_pose)\u001b[0m\n\u001b[1;32m     19\u001b[0m \u001b[38;5;28mprint\u001b[39m(\u001b[38;5;28mtype\u001b[39m(_end_pose))\n\u001b[1;32m     20\u001b[0m \u001b[38;5;28;01mif\u001b[39;00m SOL_MODE \u001b[38;5;241m==\u001b[39m \u001b[38;5;124m\"\u001b[39m\u001b[38;5;124mIKFLOW\u001b[39m\u001b[38;5;124m\"\u001b[39m:\n\u001b[0;32m---> 21\u001b[0m     sols \u001b[38;5;241m=\u001b[39m \u001b[43mik_solver\u001b[49m\u001b[38;5;241;43m.\u001b[39;49m\u001b[43mgenerate_ik_solutions\u001b[49m\u001b[43m(\u001b[49m\u001b[43m_end_pose\u001b[49m\u001b[43m,\u001b[49m\u001b[43m \u001b[49m\u001b[43mN_SOLUTIONS\u001b[49m\u001b[43m)\u001b[49m\u001b[38;5;241m.\u001b[39mcpu()\u001b[38;5;241m.\u001b[39mnumpy()\n\u001b[1;32m     22\u001b[0m \u001b[38;5;28;01melif\u001b[39;00m SOL_MODE \u001b[38;5;241m==\u001b[39m \u001b[38;5;124m\"\u001b[39m\u001b[38;5;124mIK\u001b[39m\u001b[38;5;124m\"\u001b[39m:\n\u001b[1;32m     23\u001b[0m     sols \u001b[38;5;241m=\u001b[39m ik_solver\u001b[38;5;241m.\u001b[39mrobot\u001b[38;5;241m.\u001b[39minverse_kinematics(_end_pose, N_SOLUTIONS, debug\u001b[38;5;241m=\u001b[39m\u001b[38;5;28;01mFalse\u001b[39;00m)\n",
      "File \u001b[0;32m~/Documents/ikflow/ikflow/ikflow_solver.py:343\u001b[0m, in \u001b[0;36mIKFlowSolver.generate_ik_solutions\u001b[0;34m(self, y, n, latent, latent_distribution, latent_scale, clamp_to_joint_limits, refine_solutions, return_detailed)\u001b[0m\n\u001b[1;32m    341\u001b[0m \u001b[38;5;28;01mif\u001b[39;00m latent \u001b[38;5;129;01mis\u001b[39;00m \u001b[38;5;28;01mNone\u001b[39;00m:\n\u001b[1;32m    342\u001b[0m     latent \u001b[38;5;241m=\u001b[39m draw_latent(latent_distribution, latent_scale, (n, \u001b[38;5;28mself\u001b[39m\u001b[38;5;241m.\u001b[39m_network_width), device)\n\u001b[0;32m--> 343\u001b[0m \u001b[38;5;28;01mreturn\u001b[39;00m \u001b[38;5;28;43mself\u001b[39;49m\u001b[38;5;241;43m.\u001b[39;49m\u001b[43m_run_inference\u001b[49m\u001b[43m(\u001b[49m\u001b[43mlatent\u001b[49m\u001b[43m,\u001b[49m\u001b[43m \u001b[49m\u001b[43mconditional\u001b[49m\u001b[43m,\u001b[49m\u001b[43m \u001b[49m\u001b[43mt0\u001b[49m\u001b[43m,\u001b[49m\u001b[43m \u001b[49m\u001b[43mclamp_to_joint_limits\u001b[49m\u001b[43m,\u001b[49m\u001b[43m \u001b[49m\u001b[43mreturn_detailed\u001b[49m\u001b[43m)\u001b[49m\n",
      "File \u001b[0;32m~/Documents/ikflow/ikflow/ikflow_solver.py:98\u001b[0m, in \u001b[0;36mIKFlowSolver._run_inference\u001b[0;34m(self, latent, conditional, t0, clamp_to_joint_limits, return_detailed)\u001b[0m\n\u001b[1;32m     96\u001b[0m \u001b[38;5;66;03m# Run model, format and return output\u001b[39;00m\n\u001b[1;32m     97\u001b[0m t0 \u001b[38;5;241m=\u001b[39m time()\n\u001b[0;32m---> 98\u001b[0m output_rev, _ \u001b[38;5;241m=\u001b[39m \u001b[38;5;28;43mself\u001b[39;49m\u001b[38;5;241;43m.\u001b[39;49m\u001b[43mnn_model\u001b[49m\u001b[43m(\u001b[49m\u001b[43mlatent\u001b[49m\u001b[43m,\u001b[49m\u001b[43m \u001b[49m\u001b[43mc\u001b[49m\u001b[38;5;241;43m=\u001b[39;49m\u001b[43mconditional\u001b[49m\u001b[43m,\u001b[49m\u001b[43m \u001b[49m\u001b[43mrev\u001b[49m\u001b[38;5;241;43m=\u001b[39;49m\u001b[38;5;28;43;01mTrue\u001b[39;49;00m\u001b[43m)\u001b[49m\n\u001b[1;32m     99\u001b[0m solutions \u001b[38;5;241m=\u001b[39m output_rev[:, \u001b[38;5;241m0\u001b[39m : \u001b[38;5;28mself\u001b[39m\u001b[38;5;241m.\u001b[39mndof]\n\u001b[1;32m    101\u001b[0m \u001b[38;5;28;01mif\u001b[39;00m clamp_to_joint_limits:\n",
      "File \u001b[0;32m~/.cache/pypoetry/virtualenvs/ikflow-I0n2E3-f-py3.10/lib/python3.10/site-packages/torch/nn/modules/module.py:1736\u001b[0m, in \u001b[0;36mModule._wrapped_call_impl\u001b[0;34m(self, *args, **kwargs)\u001b[0m\n\u001b[1;32m   1734\u001b[0m     \u001b[38;5;28;01mreturn\u001b[39;00m \u001b[38;5;28mself\u001b[39m\u001b[38;5;241m.\u001b[39m_compiled_call_impl(\u001b[38;5;241m*\u001b[39margs, \u001b[38;5;241m*\u001b[39m\u001b[38;5;241m*\u001b[39mkwargs)  \u001b[38;5;66;03m# type: ignore[misc]\u001b[39;00m\n\u001b[1;32m   1735\u001b[0m \u001b[38;5;28;01melse\u001b[39;00m:\n\u001b[0;32m-> 1736\u001b[0m     \u001b[38;5;28;01mreturn\u001b[39;00m \u001b[38;5;28;43mself\u001b[39;49m\u001b[38;5;241;43m.\u001b[39;49m\u001b[43m_call_impl\u001b[49m\u001b[43m(\u001b[49m\u001b[38;5;241;43m*\u001b[39;49m\u001b[43margs\u001b[49m\u001b[43m,\u001b[49m\u001b[43m \u001b[49m\u001b[38;5;241;43m*\u001b[39;49m\u001b[38;5;241;43m*\u001b[39;49m\u001b[43mkwargs\u001b[49m\u001b[43m)\u001b[49m\n",
      "File \u001b[0;32m~/.cache/pypoetry/virtualenvs/ikflow-I0n2E3-f-py3.10/lib/python3.10/site-packages/torch/nn/modules/module.py:1747\u001b[0m, in \u001b[0;36mModule._call_impl\u001b[0;34m(self, *args, **kwargs)\u001b[0m\n\u001b[1;32m   1742\u001b[0m \u001b[38;5;66;03m# If we don't have any hooks, we want to skip the rest of the logic in\u001b[39;00m\n\u001b[1;32m   1743\u001b[0m \u001b[38;5;66;03m# this function, and just call forward.\u001b[39;00m\n\u001b[1;32m   1744\u001b[0m \u001b[38;5;28;01mif\u001b[39;00m \u001b[38;5;129;01mnot\u001b[39;00m (\u001b[38;5;28mself\u001b[39m\u001b[38;5;241m.\u001b[39m_backward_hooks \u001b[38;5;129;01mor\u001b[39;00m \u001b[38;5;28mself\u001b[39m\u001b[38;5;241m.\u001b[39m_backward_pre_hooks \u001b[38;5;129;01mor\u001b[39;00m \u001b[38;5;28mself\u001b[39m\u001b[38;5;241m.\u001b[39m_forward_hooks \u001b[38;5;129;01mor\u001b[39;00m \u001b[38;5;28mself\u001b[39m\u001b[38;5;241m.\u001b[39m_forward_pre_hooks\n\u001b[1;32m   1745\u001b[0m         \u001b[38;5;129;01mor\u001b[39;00m _global_backward_pre_hooks \u001b[38;5;129;01mor\u001b[39;00m _global_backward_hooks\n\u001b[1;32m   1746\u001b[0m         \u001b[38;5;129;01mor\u001b[39;00m _global_forward_hooks \u001b[38;5;129;01mor\u001b[39;00m _global_forward_pre_hooks):\n\u001b[0;32m-> 1747\u001b[0m     \u001b[38;5;28;01mreturn\u001b[39;00m \u001b[43mforward_call\u001b[49m\u001b[43m(\u001b[49m\u001b[38;5;241;43m*\u001b[39;49m\u001b[43margs\u001b[49m\u001b[43m,\u001b[49m\u001b[43m \u001b[49m\u001b[38;5;241;43m*\u001b[39;49m\u001b[38;5;241;43m*\u001b[39;49m\u001b[43mkwargs\u001b[49m\u001b[43m)\u001b[49m\n\u001b[1;32m   1749\u001b[0m result \u001b[38;5;241m=\u001b[39m \u001b[38;5;28;01mNone\u001b[39;00m\n\u001b[1;32m   1750\u001b[0m called_always_called_hooks \u001b[38;5;241m=\u001b[39m \u001b[38;5;28mset\u001b[39m()\n",
      "File \u001b[0;32m~/.cache/pypoetry/virtualenvs/ikflow-I0n2E3-f-py3.10/lib/python3.10/site-packages/FrEIA/framework/graph_inn.py:302\u001b[0m, in \u001b[0;36mGraphINN.forward\u001b[0;34m(self, x_or_z, c, rev, jac, intermediate_outputs, x)\u001b[0m\n\u001b[1;32m    300\u001b[0m         mod_out \u001b[38;5;241m=\u001b[39m node\u001b[38;5;241m.\u001b[39mmodule(mod_in, rev\u001b[38;5;241m=\u001b[39mrev, jac\u001b[38;5;241m=\u001b[39mjac)\n\u001b[1;32m    301\u001b[0m \u001b[38;5;28;01mexcept\u001b[39;00m \u001b[38;5;167;01mException\u001b[39;00m \u001b[38;5;28;01mas\u001b[39;00m e:\n\u001b[0;32m--> 302\u001b[0m     \u001b[38;5;28;01mraise\u001b[39;00m \u001b[38;5;167;01mRuntimeError\u001b[39;00m(\u001b[38;5;124mf\u001b[39m\u001b[38;5;124m\"\u001b[39m\u001b[38;5;132;01m{\u001b[39;00mnode\u001b[38;5;132;01m}\u001b[39;00m\u001b[38;5;124m encountered an error.\u001b[39m\u001b[38;5;124m\"\u001b[39m) \u001b[38;5;28;01mfrom\u001b[39;00m \u001b[38;5;21;01me\u001b[39;00m\n\u001b[1;32m    304\u001b[0m out, mod_jac \u001b[38;5;241m=\u001b[39m \u001b[38;5;28mself\u001b[39m\u001b[38;5;241m.\u001b[39m_check_output(node, mod_out, jac, rev)\n\u001b[1;32m    306\u001b[0m \u001b[38;5;28;01mfor\u001b[39;00m out_idx, out_value \u001b[38;5;129;01min\u001b[39;00m \u001b[38;5;28menumerate\u001b[39m(out):\n",
      "\u001b[0;31mRuntimeError\u001b[0m: Node 'fd9c60': [(7,)] -> GLOWCouplingBlock -> [(7,)] encountered an error."
     ]
    }
   ],
   "source": [
    "# SOL_MODE = \"IK\"\n",
    "SOL_MODE = \"IKFLOW\"\n",
    "update_scene()"
   ]
  },
  {
   "cell_type": "markdown",
   "id": "c527c889",
   "metadata": {},
   "source": [
    "### Show / Hide IK target"
   ]
  },
  {
   "cell_type": "code",
   "execution_count": null,
   "id": "4029abec",
   "metadata": {},
   "outputs": [],
   "source": [
    "# SHOW\n",
    "vis.edit(\"target\", doedit=True)\n",
    "vis.setAttribute(\"target\", \"length\", .2)\n",
    "vis.hideLabel(\"target\")"
   ]
  },
  {
   "cell_type": "code",
   "execution_count": null,
   "id": "9ce30708",
   "metadata": {},
   "outputs": [],
   "source": [
    "# HIDE\n",
    "vis.edit(\"target\", doedit=False)\n",
    "vis.setAttribute(\"target\", \"length\", .2)\n",
    "vis.hideLabel(\"target\")"
   ]
  },
  {
   "cell_type": "markdown",
   "id": "53acc430",
   "metadata": {},
   "source": [
    "### Printout the current vis. state"
   ]
  },
  {
   "cell_type": "code",
   "execution_count": null,
   "id": "ab76a43b",
   "metadata": {},
   "outputs": [],
   "source": [
    "current_state()"
   ]
  }
 ],
 "metadata": {
  "kernelspec": {
   "display_name": "Python 3 (ipykernel)",
   "language": "python",
   "name": "python3"
  },
  "language_info": {
   "codemirror_mode": {
    "name": "ipython",
    "version": 3
   },
   "file_extension": ".py",
   "mimetype": "text/x-python",
   "name": "python",
   "nbconvert_exporter": "python",
   "pygments_lexer": "ipython3",
   "version": "3.10.12"
  },
  "vscode": {
   "interpreter": {
    "hash": "c106ee123d7af531b7acc4f77c56e24741db8737a45cbfd984346f16de511ef0"
   }
  }
 },
 "nbformat": 4,
 "nbformat_minor": 5
}
